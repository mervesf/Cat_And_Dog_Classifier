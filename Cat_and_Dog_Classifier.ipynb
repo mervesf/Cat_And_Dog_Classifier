{
  "nbformat": 4,
  "nbformat_minor": 0,
  "metadata": {
    "colab": {
      "provenance": []
    },
    "kernelspec": {
      "name": "python3",
      "display_name": "Python 3"
    },
    "language_info": {
      "name": "python"
    }
  },
  "cells": [
    {
      "cell_type": "code",
      "execution_count": null,
      "metadata": {
        "id": "u5-lqiPSPhRv"
      },
      "outputs": [],
      "source": [
        "import numpy as np\n",
        "import pandas as pd\n",
        "import matplotlib.pyplot as plt\n",
        "import os\n",
        "import cv2\n",
        "import tensorflow as tf\n",
        "from tensorflow import keras\n",
        "import zipfile\n",
        "from sklearn.model_selection import train_test_split"
      ]
    },
    {
      "cell_type": "code",
      "source": [
        "cat_dogs_images_train_zip = r'C:\\AI\\projectideas\\train.zip'\n",
        "cat_dogs_images_test_zip = r'C:\\AI\\projectideas\\test1.zip'\n",
        "cat_dogs_images_train=r'C:\\AI\\projectideas'\n",
        "cat_dogs_images_test=r'C:\\AI\\projectideas'"
      ],
      "metadata": {
        "id": "8A5gEw_EQDl7"
      },
      "execution_count": null,
      "outputs": []
    },
    {
      "cell_type": "code",
      "source": [
        "with zipfile.ZipFile(cat_dogs_images_train_zip, 'r') as zip_ref:\n",
        "    zip_ref.extractall(cat_dogs_images_train)\n",
        "with zipfile.ZipFile(cat_dogs_images_test_zip, 'r') as zip_ref:\n",
        "    zip_ref.extractall(cat_dogs_images_test)\n",
        "\n",
        "cat_dogs_images_=r'C:\\YapayZeka\\projefikirleri\\train'\n",
        "cat_dogs_images = os.listdir(cat_dogs_images_)\n",
        "x=[]"
      ],
      "metadata": {
        "id": "yQxAOd-dQIbW"
      },
      "execution_count": null,
      "outputs": []
    },
    {
      "cell_type": "code",
      "source": [
        "for j in cat_dogs_images:\n",
        "    image_path=os.path.join(cat_dogs_images_,j)\n",
        "    image_=cv2.imread(image_path)\n",
        "    image_=cv2.resize(image_,(224, 224))\n",
        "    image_=image_/255\n",
        "    cv2.imwrite(image_path,image_)\n",
        "\n",
        "for i in cat_dogs_images:\n",
        "    image_path=os.path.join(cat_dogs_images_,j)\n",
        "    x.append(cv2.imread(image_path))"
      ],
      "metadata": {
        "id": "u33IbSMyQMwO"
      },
      "execution_count": null,
      "outputs": []
    },
    {
      "cell_type": "code",
      "source": [
        "y=pd.read_csv('sampleSubmission.csv')\n",
        "x_train,x_val,y_train,y_val=train_test_split(x,y,random_state=2,test_size=0.3)"
      ],
      "metadata": {
        "id": "d5bXzG6uQUcy"
      },
      "execution_count": null,
      "outputs": []
    },
    {
      "cell_type": "code",
      "source": [
        "parameters={'shape':224,'activation':'relu','activation_':'softmax','classes':2,'units':12,'optimizier':'adam','epochs':20,\n",
        "            'kernel_size':4,'pool_size':3,'dropout':0.3}\n",
        "#setup the layers\n",
        "model=keras.Sequential(\n",
        "    [\n",
        "     keras.Input(shape=(parameters['shape'],parameters['shape'],3)),\n",
        "     tf.keras.layers.Conv2D(32,kernel_size=(parameters['kernel_size'],parameters['kernel_size']),\n",
        "                   activation=parameters['activation']),\n",
        "     tf.keras.layers.MaxPooling2D(pool_size=(parameters['pool_size'],parameters['pool_size'])),\n",
        "     tf.keras.layers.Conv2D(64,kernel_size=(parameters['kernel_size'],parameters['kernel_size']),\n",
        "                   activation=parameters['activation']),\n",
        "     tf.keras.layers.MaxPooling2D(pool_size=(parameters['pool_size'],parameters['parameters'])),\n",
        "     tf.keras.layers.Conv2D(128,kernel_size=(parameters['kernel_size'],parameters['kernel_size']),\n",
        "                   activation=parameters['activation']),\n",
        "     tf.keras.layers.MaxPooling2D(pool_size=(parameters['pool_size'],parameters['pool_size'])),\n",
        "     tf.keras.layers.Flatten(),\n",
        "     tf.keras.layers.Dropout(parameters['dropout']),\n",
        "     tf.keras.layers.Input(),\n",
        "     tf.keras.layers.Dense(units=128,activation=parameters['activation']),\n",
        "     tf.keras.layers.Dense(units=512,activation=parameters['activation']),\n",
        "     tf.keras.layers.Dense(units=parameters['classes'],activation=parameters['activation_'])\n",
        "     ]\n",
        "    )"
      ],
      "metadata": {
        "id": "V3ZqZOHEQY2X"
      },
      "execution_count": null,
      "outputs": []
    },
    {
      "cell_type": "code",
      "source": [
        "model.compile(optimizier=parameters['optimizier'],loss=tf.keras.losses.SparseCategoricalCrossentropy(),\n",
        "              metrics=['accuracy'])"
      ],
      "metadata": {
        "id": "CxUsHtZdQb_5"
      },
      "execution_count": null,
      "outputs": []
    },
    {
      "cell_type": "code",
      "source": [
        "history = model.fit(x=train_images, y=train_labels,validation_data=(test_images,test_labels), epochs=parameters[\"epochs\"])"
      ],
      "metadata": {
        "id": "N6cIbkcSQg0h"
      },
      "execution_count": null,
      "outputs": []
    },
    {
      "cell_type": "code",
      "source": [],
      "metadata": {
        "id": "xyGAc80-yFON"
      },
      "execution_count": null,
      "outputs": []
    }
  ]
}